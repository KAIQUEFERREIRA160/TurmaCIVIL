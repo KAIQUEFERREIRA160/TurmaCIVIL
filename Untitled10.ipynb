{
  "nbformat": 4,
  "nbformat_minor": 0,
  "metadata": {
    "colab": {
      "provenance": [],
      "authorship_tag": "ABX9TyM2eLxV66LWugg63LSIdQEC",
      "include_colab_link": true
    },
    "kernelspec": {
      "name": "python3",
      "display_name": "Python 3"
    },
    "language_info": {
      "name": "python"
    }
  },
  "cells": [
    {
      "cell_type": "markdown",
      "metadata": {
        "id": "view-in-github",
        "colab_type": "text"
      },
      "source": [
        "<a href=\"https://colab.research.google.com/github/KAIQUEFERREIRA160/TurmaCIVIL/blob/main/Untitled10.ipynb\" target=\"_parent\"><img src=\"https://colab.research.google.com/assets/colab-badge.svg\" alt=\"Open In Colab\"/></a>"
      ]
    },
    {
      "cell_type": "code",
      "execution_count": null,
      "metadata": {
        "id": "LLFLrs8l6OHh"
      },
      "outputs": [],
      "source": [
        "import time\n",
        "import multiprocessing\n",
        "\n",
        "# Função que monitora o status da máquina\n",
        "def monitor_maquina(cnc):\n",
        "    while True:\n",
        "        # Verificar o status da máquina (standby ou não)\n",
        "        if cnc.status == 'standby':\n",
        "            print(\"Máquina em standby. Mantendo ponto inicial...\")\n",
        "            # Aqui você pode adicionar a lógica de recuperação do ponto inicial.\n",
        "            cnc.manter_ponto_inicial()\n",
        "        time.sleep(5)  # Verifica a cada 5 segundos\n",
        "\n",
        "# Função que simula a operação do sistema principal (a CNC)\n",
        "def sistema_principal(cnc):\n",
        "    while True:\n",
        "        if cnc.status == 'operando':\n",
        "            print(\"Sistema operando normalmente...\")\n",
        "            # Aqui você pode incluir o código que envia comandos à máquina CNC\n",
        "            # para realizar a operação de usinagem.\n",
        "        time.sleep(1)  # Simula a operação da CNC a cada segundo\n",
        "\n",
        "# Classe que simula a comunicação com a máquina CNC\n",
        "class CNC:\n",
        "    def __init__(self):\n",
        "        self.status = 'operando'  # Status inicial da máquina, pode ser 'operando' ou 'standby'\n",
        "\n",
        "    def manter_ponto_inicial(self):\n",
        "        print(\"Restaurando ponto inicial da máquina...\")\n",
        "        # Aqui você pode adicionar código que retorna a máquina ao seu ponto inicial.\n",
        "\n",
        "# Função principal\n",
        "if __name__ == \"__main__\":\n",
        "    cnc = CNC()  # Instancia o objeto CNC\n",
        "\n",
        "    # Cria dois processos: um para monitorar a máquina e outro para o sistema principal\n",
        "    monitor_process = multiprocessing.Process(target=monitor_maquina, args=(cnc,))\n",
        "    principal_process = multiprocessing.Process(target=sistema_principal, args=(cnc,))\n",
        "\n",
        "    # Inicia os dois processos\n",
        "    monitor_process.start()\n",
        "    principal_process.start()\n",
        "\n",
        "    # Aguarda os dois processos (isso pode ser adaptado conforme necessidade)\n",
        "    monitor_process.join()\n",
        "    principal_process.join()\n"
      ]
    }
  ]
}