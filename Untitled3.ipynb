{
  "nbformat": 4,
  "nbformat_minor": 0,
  "metadata": {
    "colab": {
      "provenance": [],
      "authorship_tag": "ABX9TyOFtC68Dwk/FM+E9XF+nxpB",
      "include_colab_link": true
    },
    "kernelspec": {
      "name": "python3",
      "display_name": "Python 3"
    },
    "language_info": {
      "name": "python"
    }
  },
  "cells": [
    {
      "cell_type": "markdown",
      "metadata": {
        "id": "view-in-github",
        "colab_type": "text"
      },
      "source": [
        "<a href=\"https://colab.research.google.com/github/KAIQUEFERREIRA160/TurmaCIVIL/blob/main/Untitled3.ipynb\" target=\"_parent\"><img src=\"https://colab.research.google.com/assets/colab-badge.svg\" alt=\"Open In Colab\"/></a>"
      ]
    },
    {
      "cell_type": "markdown",
      "source": [
        "01) elaborar um programa em python que solicite ao usuario um valor inteiro e em seguida informe ao usuario se o valor é multiplo de 3 ou nao. A seguir o pseudocodigo referente ao algoritmo do programa"
      ],
      "metadata": {
        "id": "BropcVphn7Qs"
      }
    },
    {
      "cell_type": "code",
      "source": [
        "#solicite um valor inteiro ao usuario\n",
        "x = int(input(\"digite um valor inteiro\"))\n",
        "#verifica se o numero e multiplo de 3\n",
        "if x % 3 == 0:\n",
        "  print(\"multiplo\")"
      ],
      "metadata": {
        "colab": {
          "base_uri": "https://localhost:8080/"
        },
        "id": "ebLygDSKoZtN",
        "outputId": "e7c8fa72-f608-4ac6-9cf8-0ab110577636"
      },
      "execution_count": 3,
      "outputs": [
        {
          "output_type": "stream",
          "name": "stdout",
          "text": [
            "digite um valor inteiro9\n",
            "multiplo\n"
          ]
        }
      ]
    },
    {
      "cell_type": "markdown",
      "source": [
        "#02) Dadas as notas a e b de um aluno, com pesos respectivamente 2 e 3; pede-se elaborar um probrama em python para calcular e exibir a média ponderada do aluno, verificar e informar, junto ao valor da sua media, se foi aprovado ou nao(OBS:Considere aprovado se obtiver média igual ou superior a 5)"
      ],
      "metadata": {
        "id": "PBy7mejFo1-a"
      }
    },
    {
      "cell_type": "code",
      "source": [
        "# Solicita ao usuário que insira a nota A e B de aluno\n",
        "a = float(input(\"Digite a nota A: \"))\n",
        "b = float(input(\"Digite a nota B: \"))\n",
        "\n",
        "# Calcule a média ponderada com A com peso 2 e B com peso 3\n",
        "media_ponderada = (a * 2 + b * 3) / 5\n",
        "\n",
        "# Exiba a média ponderada calculada\n",
        "print(f\"A média ponderada do aluno é: {media_ponderada}\")\n",
        "\n",
        "# Considere aprovado se anota for maior ou igual a 5\n",
        "if media_ponderada >= 5:\n",
        "    print(\"O aluno foi aprovado.\")\n",
        "else:\n",
        "    print(\"O aluno não foi aprovado.\")\n"
      ],
      "metadata": {
        "colab": {
          "base_uri": "https://localhost:8080/"
        },
        "id": "uzECZLNXsRvB",
        "outputId": "4442bb11-31e7-4298-ed3e-c5898e60a6a5"
      },
      "execution_count": 24,
      "outputs": [
        {
          "output_type": "stream",
          "name": "stdout",
          "text": [
            "Digite a nota A: 5\n",
            "Digite a nota B: 7\n",
            "A média ponderada do aluno é: 6.2\n",
            "O aluno foi aprovado.\n"
          ]
        }
      ]
    },
    {
      "cell_type": "markdown",
      "source": [
        "#03) Dado o algoritmo a seguir, elabore o código python do programa em questão:"
      ],
      "metadata": {
        "id": "_DqKAWonuXJB"
      }
    },
    {
      "cell_type": "code",
      "source": [
        "#solicite os tres valores ao usuario\n",
        "a = int(input(\"digite o valor de a\"))\n",
        "b = int(input(\"digite o valor de b\"))\n",
        "c = int(input(\"digite o valor de c\"))\n",
        "#compara os valorese encontra o menor\n",
        "if a < b and a <= c:\n",
        "  menor = a\n",
        "elif b < a and b <= c:\n",
        "  menor = b\n",
        "else:\n",
        " menor = c\n",
        "#exibe o menor valor\n",
        "print(\"o menor valor é\", menor)\n",
        "#"
      ],
      "metadata": {
        "colab": {
          "base_uri": "https://localhost:8080/"
        },
        "id": "v41bY-3Bupu5",
        "outputId": "c2755ac9-1ffa-4200-f2b4-e9d973a29aa9"
      },
      "execution_count": 26,
      "outputs": [
        {
          "output_type": "stream",
          "name": "stdout",
          "text": [
            "digite o valor de a3\n",
            "digite o valor de b6\n",
            "digite o valor de c4\n",
            "o menor valor é 3\n"
          ]
        }
      ]
    }
  ]
}