{
  "nbformat": 4,
  "nbformat_minor": 0,
  "metadata": {
    "colab": {
      "provenance": [],
      "authorship_tag": "ABX9TyM2eLxV66LWugg63LSIdQEC",
      "include_colab_link": true
    },
    "kernelspec": {
      "name": "python3",
      "display_name": "Python 3"
    },
    "language_info": {
      "name": "python"
    }
  },
  "cells": [
    {
      "cell_type": "markdown",
      "metadata": {
        "id": "view-in-github",
        "colab_type": "text"
      },
      "source": [
        "<a href=\"https://colab.research.google.com/github/KAIQUEFERREIRA160/TurmaCIVIL/blob/main/Untitled9.ipynb\" target=\"_parent\"><img src=\"https://colab.research.google.com/assets/colab-badge.svg\" alt=\"Open In Colab\"/></a>"
      ]
    },
    {
      "cell_type": "code",
      "execution_count": 1,
      "metadata": {
        "colab": {
          "base_uri": "https://localhost:8080/",
          "height": 1000
        },
        "id": "sQzkDvTl2FPL",
        "outputId": "1bd144b6-d473-42ed-f1eb-d916892223ac"
      },
      "outputs": [
        {
          "output_type": "stream",
          "name": "stdout",
          "text": [
            "Sistema operando normalmente...\n",
            "Sistema operando normalmente...\n",
            "Sistema operando normalmente...\n",
            "Sistema operando normalmente...\n",
            "Sistema operando normalmente...\n",
            "Sistema operando normalmente...\n",
            "Sistema operando normalmente...\n",
            "Sistema operando normalmente...\n",
            "Sistema operando normalmente...\n",
            "Sistema operando normalmente...\n",
            "Sistema operando normalmente...\n",
            "Sistema operando normalmente...\n",
            "Sistema operando normalmente...\n",
            "Sistema operando normalmente...\n",
            "Sistema operando normalmente...\n",
            "Sistema operando normalmente...\n",
            "Sistema operando normalmente...\n",
            "Sistema operando normalmente...\n",
            "Sistema operando normalmente...\n",
            "Sistema operando normalmente...\n",
            "Sistema operando normalmente...\n",
            "Sistema operando normalmente...\n",
            "Sistema operando normalmente...\n",
            "Sistema operando normalmente...\n",
            "Sistema operando normalmente...\n",
            "Sistema operando normalmente...\n",
            "Sistema operando normalmente...\n",
            "Sistema operando normalmente...\n",
            "Sistema operando normalmente...\n",
            "Sistema operando normalmente...\n",
            "Sistema operando normalmente...\n",
            "Sistema operando normalmente...\n",
            "Sistema operando normalmente...\n",
            "Sistema operando normalmente...\n",
            "Sistema operando normalmente...\n",
            "Sistema operando normalmente...\n",
            "Sistema operando normalmente...\n",
            "Sistema operando normalmente...\n",
            "Sistema operando normalmente...\n",
            "Sistema operando normalmente...\n",
            "Sistema operando normalmente...\n",
            "Sistema operando normalmente...\n",
            "Sistema operando normalmente...\n",
            "Sistema operando normalmente...\n",
            "Sistema operando normalmente...\n",
            "Sistema operando normalmente...\n",
            "Sistema operando normalmente...\n",
            "Sistema operando normalmente...\n",
            "Sistema operando normalmente...\n",
            "Sistema operando normalmente...\n",
            "Sistema operando normalmente...\n"
          ]
        },
        {
          "output_type": "stream",
          "name": "stderr",
          "text": [
            "Process Process-1:\n",
            "Traceback (most recent call last):\n",
            "Process Process-2:\n",
            "Traceback (most recent call last):\n",
            "  File \"/usr/lib/python3.10/multiprocessing/process.py\", line 314, in _bootstrap\n",
            "    self.run()\n",
            "  File \"/usr/lib/python3.10/multiprocessing/process.py\", line 108, in run\n",
            "    self._target(*self._args, **self._kwargs)\n",
            "  File \"<ipython-input-1-aa4ade880585>\", line 12, in monitor_maquina\n",
            "    time.sleep(5)  # Verifica a cada 5 segundos\n",
            "  File \"/usr/lib/python3.10/multiprocessing/process.py\", line 314, in _bootstrap\n",
            "    self.run()\n",
            "  File \"/usr/lib/python3.10/multiprocessing/process.py\", line 108, in run\n",
            "    self._target(*self._args, **self._kwargs)\n",
            "KeyboardInterrupt\n",
            "  File \"<ipython-input-1-aa4ade880585>\", line 21, in sistema_principal\n",
            "    time.sleep(1)  # Simula a operação da CNC a cada segundo\n",
            "KeyboardInterrupt\n"
          ]
        },
        {
          "output_type": "error",
          "ename": "KeyboardInterrupt",
          "evalue": "",
          "traceback": [
            "\u001b[0;31m---------------------------------------------------------------------------\u001b[0m",
            "\u001b[0;31mKeyboardInterrupt\u001b[0m                         Traceback (most recent call last)",
            "\u001b[0;32m<ipython-input-1-aa4ade880585>\u001b[0m in \u001b[0;36m<cell line: 33>\u001b[0;34m()\u001b[0m\n\u001b[1;32m     43\u001b[0m \u001b[0;34m\u001b[0m\u001b[0m\n\u001b[1;32m     44\u001b[0m     \u001b[0;31m# Aguarda os dois processos (isso pode ser adaptado conforme necessidade)\u001b[0m\u001b[0;34m\u001b[0m\u001b[0;34m\u001b[0m\u001b[0m\n\u001b[0;32m---> 45\u001b[0;31m     \u001b[0mmonitor_process\u001b[0m\u001b[0;34m.\u001b[0m\u001b[0mjoin\u001b[0m\u001b[0;34m(\u001b[0m\u001b[0;34m)\u001b[0m\u001b[0;34m\u001b[0m\u001b[0;34m\u001b[0m\u001b[0m\n\u001b[0m\u001b[1;32m     46\u001b[0m     \u001b[0mprincipal_process\u001b[0m\u001b[0;34m.\u001b[0m\u001b[0mjoin\u001b[0m\u001b[0;34m(\u001b[0m\u001b[0;34m)\u001b[0m\u001b[0;34m\u001b[0m\u001b[0;34m\u001b[0m\u001b[0m\n",
            "\u001b[0;32m/usr/lib/python3.10/multiprocessing/process.py\u001b[0m in \u001b[0;36mjoin\u001b[0;34m(self, timeout)\u001b[0m\n\u001b[1;32m    147\u001b[0m         \u001b[0;32massert\u001b[0m \u001b[0mself\u001b[0m\u001b[0;34m.\u001b[0m\u001b[0m_parent_pid\u001b[0m \u001b[0;34m==\u001b[0m \u001b[0mos\u001b[0m\u001b[0;34m.\u001b[0m\u001b[0mgetpid\u001b[0m\u001b[0;34m(\u001b[0m\u001b[0;34m)\u001b[0m\u001b[0;34m,\u001b[0m \u001b[0;34m'can only join a child process'\u001b[0m\u001b[0;34m\u001b[0m\u001b[0;34m\u001b[0m\u001b[0m\n\u001b[1;32m    148\u001b[0m         \u001b[0;32massert\u001b[0m \u001b[0mself\u001b[0m\u001b[0;34m.\u001b[0m\u001b[0m_popen\u001b[0m \u001b[0;32mis\u001b[0m \u001b[0;32mnot\u001b[0m \u001b[0;32mNone\u001b[0m\u001b[0;34m,\u001b[0m \u001b[0;34m'can only join a started process'\u001b[0m\u001b[0;34m\u001b[0m\u001b[0;34m\u001b[0m\u001b[0m\n\u001b[0;32m--> 149\u001b[0;31m         \u001b[0mres\u001b[0m \u001b[0;34m=\u001b[0m \u001b[0mself\u001b[0m\u001b[0;34m.\u001b[0m\u001b[0m_popen\u001b[0m\u001b[0;34m.\u001b[0m\u001b[0mwait\u001b[0m\u001b[0;34m(\u001b[0m\u001b[0mtimeout\u001b[0m\u001b[0;34m)\u001b[0m\u001b[0;34m\u001b[0m\u001b[0;34m\u001b[0m\u001b[0m\n\u001b[0m\u001b[1;32m    150\u001b[0m         \u001b[0;32mif\u001b[0m \u001b[0mres\u001b[0m \u001b[0;32mis\u001b[0m \u001b[0;32mnot\u001b[0m \u001b[0;32mNone\u001b[0m\u001b[0;34m:\u001b[0m\u001b[0;34m\u001b[0m\u001b[0;34m\u001b[0m\u001b[0m\n\u001b[1;32m    151\u001b[0m             \u001b[0m_children\u001b[0m\u001b[0;34m.\u001b[0m\u001b[0mdiscard\u001b[0m\u001b[0;34m(\u001b[0m\u001b[0mself\u001b[0m\u001b[0;34m)\u001b[0m\u001b[0;34m\u001b[0m\u001b[0;34m\u001b[0m\u001b[0m\n",
            "\u001b[0;32m/usr/lib/python3.10/multiprocessing/popen_fork.py\u001b[0m in \u001b[0;36mwait\u001b[0;34m(self, timeout)\u001b[0m\n\u001b[1;32m     41\u001b[0m                     \u001b[0;32mreturn\u001b[0m \u001b[0;32mNone\u001b[0m\u001b[0;34m\u001b[0m\u001b[0;34m\u001b[0m\u001b[0m\n\u001b[1;32m     42\u001b[0m             \u001b[0;31m# This shouldn't block if wait() returned successfully.\u001b[0m\u001b[0;34m\u001b[0m\u001b[0;34m\u001b[0m\u001b[0m\n\u001b[0;32m---> 43\u001b[0;31m             \u001b[0;32mreturn\u001b[0m \u001b[0mself\u001b[0m\u001b[0;34m.\u001b[0m\u001b[0mpoll\u001b[0m\u001b[0;34m(\u001b[0m\u001b[0mos\u001b[0m\u001b[0;34m.\u001b[0m\u001b[0mWNOHANG\u001b[0m \u001b[0;32mif\u001b[0m \u001b[0mtimeout\u001b[0m \u001b[0;34m==\u001b[0m \u001b[0;36m0.0\u001b[0m \u001b[0;32melse\u001b[0m \u001b[0;36m0\u001b[0m\u001b[0;34m)\u001b[0m\u001b[0;34m\u001b[0m\u001b[0;34m\u001b[0m\u001b[0m\n\u001b[0m\u001b[1;32m     44\u001b[0m         \u001b[0;32mreturn\u001b[0m \u001b[0mself\u001b[0m\u001b[0;34m.\u001b[0m\u001b[0mreturncode\u001b[0m\u001b[0;34m\u001b[0m\u001b[0;34m\u001b[0m\u001b[0m\n\u001b[1;32m     45\u001b[0m \u001b[0;34m\u001b[0m\u001b[0m\n",
            "\u001b[0;32m/usr/lib/python3.10/multiprocessing/popen_fork.py\u001b[0m in \u001b[0;36mpoll\u001b[0;34m(self, flag)\u001b[0m\n\u001b[1;32m     25\u001b[0m         \u001b[0;32mif\u001b[0m \u001b[0mself\u001b[0m\u001b[0;34m.\u001b[0m\u001b[0mreturncode\u001b[0m \u001b[0;32mis\u001b[0m \u001b[0;32mNone\u001b[0m\u001b[0;34m:\u001b[0m\u001b[0;34m\u001b[0m\u001b[0;34m\u001b[0m\u001b[0m\n\u001b[1;32m     26\u001b[0m             \u001b[0;32mtry\u001b[0m\u001b[0;34m:\u001b[0m\u001b[0;34m\u001b[0m\u001b[0;34m\u001b[0m\u001b[0m\n\u001b[0;32m---> 27\u001b[0;31m                 \u001b[0mpid\u001b[0m\u001b[0;34m,\u001b[0m \u001b[0msts\u001b[0m \u001b[0;34m=\u001b[0m \u001b[0mos\u001b[0m\u001b[0;34m.\u001b[0m\u001b[0mwaitpid\u001b[0m\u001b[0;34m(\u001b[0m\u001b[0mself\u001b[0m\u001b[0;34m.\u001b[0m\u001b[0mpid\u001b[0m\u001b[0;34m,\u001b[0m \u001b[0mflag\u001b[0m\u001b[0;34m)\u001b[0m\u001b[0;34m\u001b[0m\u001b[0;34m\u001b[0m\u001b[0m\n\u001b[0m\u001b[1;32m     28\u001b[0m             \u001b[0;32mexcept\u001b[0m \u001b[0mOSError\u001b[0m\u001b[0;34m:\u001b[0m\u001b[0;34m\u001b[0m\u001b[0;34m\u001b[0m\u001b[0m\n\u001b[1;32m     29\u001b[0m                 \u001b[0;31m# Child process not yet created. See #1731717\u001b[0m\u001b[0;34m\u001b[0m\u001b[0;34m\u001b[0m\u001b[0m\n",
            "\u001b[0;31mKeyboardInterrupt\u001b[0m: "
          ]
        }
      ],
      "source": [
        "import time\n",
        "import multiprocessing\n",
        "\n",
        "# Função que monitora o status da máquina\n",
        "def monitor_maquina(cnc):\n",
        "    while True:\n",
        "        # Verificar o status da máquina (standby ou não)\n",
        "        if cnc.status == 'standby':\n",
        "            print(\"Máquina em standby. Mantendo ponto inicial...\")\n",
        "            # Aqui você pode adicionar a lógica de recuperação do ponto inicial.\n",
        "            cnc.manter_ponto_inicial()\n",
        "        time.sleep(5)  # Verifica a cada 5 segundos\n",
        "\n",
        "# Função que simula a operação do sistema principal (a CNC)\n",
        "def sistema_principal(cnc):\n",
        "    while True:\n",
        "        if cnc.status == 'operando':\n",
        "            print(\"Sistema operando normalmente...\")\n",
        "            # Aqui você pode incluir o código que envia comandos à máquina CNC\n",
        "            # para realizar a operação de usinagem.\n",
        "        time.sleep(1)  # Simula a operação da CNC a cada segundo\n",
        "\n",
        "# Classe que simula a comunicação com a máquina CNC\n",
        "class CNC:\n",
        "    def __init__(self):\n",
        "        self.status = 'operando'  # Status inicial da máquina, pode ser 'operando' ou 'standby'\n",
        "\n",
        "    def manter_ponto_inicial(self):\n",
        "        print(\"Restaurando ponto inicial da máquina...\")\n",
        "        # Aqui você pode adicionar código que retorna a máquina ao seu ponto inicial.\n",
        "\n",
        "# Função principal\n",
        "if __name__ == \"__main__\":\n",
        "    cnc = CNC()  # Instancia o objeto CNC\n",
        "\n",
        "    # Cria dois processos: um para monitorar a máquina e outro para o sistema principal\n",
        "    monitor_process = multiprocessing.Process(target=monitor_maquina, args=(cnc,))\n",
        "    principal_process = multiprocessing.Process(target=sistema_principal, args=(cnc,))\n",
        "\n",
        "    # Inicia os dois processos\n",
        "    monitor_process.start()\n",
        "    principal_process.start()\n",
        "\n",
        "    # Aguarda os dois processos (isso pode ser adaptado conforme necessidade)\n",
        "    monitor_process.join()\n",
        "    principal_process.join()\n"
      ]
    }
  ]
}